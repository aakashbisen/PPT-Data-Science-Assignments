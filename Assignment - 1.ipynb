{
 "cells": [
  {
   "cell_type": "code",
   "execution_count": 1,
   "id": "4dcbe070",
   "metadata": {},
   "outputs": [
    {
     "name": "stdout",
     "output_type": "stream",
     "text": [
      "!dlroW ,olleH\n"
     ]
    }
   ],
   "source": [
    "'''1. Write a Python program to reverse a string without using any built-in string reversal functions.'''\n",
    "#Answer:\n",
    "def reverse_string(input_str):\n",
    "    reversed_str = \"\"\n",
    "    for i in range(len(input_str) - 1, -1, -1):\n",
    "        reversed_str += input_str[i]\n",
    "    return reversed_str\n",
    "\n",
    "# Example usage:\n",
    "string_to_reverse = \"Hello, World!\"\n",
    "reversed_string = reverse_string(string_to_reverse)\n",
    "print(reversed_string)\n"
   ]
  },
  {
   "cell_type": "code",
   "execution_count": 2,
   "id": "4a485b03",
   "metadata": {},
   "outputs": [
    {
     "name": "stdout",
     "output_type": "stream",
     "text": [
      "The string is a palindrome.\n"
     ]
    }
   ],
   "source": [
    "'''2. Implement a function to check if a given string is a palindrome.'''\n",
    "#Answer:\n",
    "def is_palindrome(input_str):\n",
    "    # Remove spaces and convert to lowercase\n",
    "    input_str = input_str.replace(\" \", \"\").lower()\n",
    "    \n",
    "    # Compare characters from both ends\n",
    "    for i in range(len(input_str)//2):\n",
    "        if input_str[i] != input_str[-i-1]:\n",
    "            return False\n",
    "    return True\n",
    "\n",
    "# Example usage:\n",
    "string_to_check = \"racecar\"\n",
    "if is_palindrome(string_to_check):\n",
    "    print(\"The string is a palindrome.\")\n",
    "else:\n",
    "    print(\"The string is not a palindrome.\")\n"
   ]
  },
  {
   "cell_type": "code",
   "execution_count": 3,
   "id": "88714b0a",
   "metadata": {},
   "outputs": [
    {
     "name": "stdout",
     "output_type": "stream",
     "text": [
      "The largest number is: 99\n"
     ]
    }
   ],
   "source": [
    "'''3. Write a program to find the largest element in a given list.'''\n",
    "#Answer:\n",
    "def find_largest_element(lst):\n",
    "    if len(lst) == 0:\n",
    "        return None\n",
    "\n",
    "    largest = lst[0]\n",
    "    for num in lst:\n",
    "        if num > largest:\n",
    "            largest = num\n",
    "\n",
    "    return largest\n",
    "\n",
    "# Example usage:\n",
    "numbers = [12, 45, 78, 34, 99, 23]\n",
    "largest_number = find_largest_element(numbers)\n",
    "print(\"The largest number is:\", largest_number)\n"
   ]
  },
  {
   "cell_type": "code",
   "execution_count": 4,
   "id": "a17a1cba",
   "metadata": {},
   "outputs": [
    {
     "name": "stdout",
     "output_type": "stream",
     "text": [
      "The element 2 occurs 4 time(s).\n",
      "The element 4 occurs 3 time(s).\n",
      "The element 6 occurs 1 time(s).\n",
      "The element 8 occurs 1 time(s).\n",
      "The element 10 occurs 1 time(s).\n"
     ]
    }
   ],
   "source": [
    "'''4. Implement a function to count the occurrence of each element in a list.'''\n",
    "#Answer:\n",
    "def count_occurrences(lst):\n",
    "    occurrence_count = {}\n",
    "    for element in lst:\n",
    "        if element in occurrence_count:\n",
    "            occurrence_count[element] += 1\n",
    "        else:\n",
    "            occurrence_count[element] = 1\n",
    "    return occurrence_count\n",
    "\n",
    "# Example usage:\n",
    "numbers = [2, 4, 6, 2, 4, 2, 8, 4, 10, 2]\n",
    "occurrence_dict = count_occurrences(numbers)\n",
    "for element, count in occurrence_dict.items():\n",
    "    print(f\"The element {element} occurs {count} time(s).\")\n"
   ]
  },
  {
   "cell_type": "code",
   "execution_count": 5,
   "id": "5019c938",
   "metadata": {},
   "outputs": [
    {
     "name": "stdout",
     "output_type": "stream",
     "text": [
      "The second largest number is: 78\n"
     ]
    }
   ],
   "source": [
    "'''5. Write a Python program to find the second largest number in a list.'''\n",
    "#Answer:\n",
    "def find_second_largest(lst):\n",
    "    if len(lst) < 2:\n",
    "        return None\n",
    "\n",
    "    largest = max(lst[0], lst[1])\n",
    "    second_largest = min(lst[0], lst[1])\n",
    "\n",
    "    for i in range(2, len(lst)):\n",
    "        if lst[i] > largest:\n",
    "            second_largest = largest\n",
    "            largest = lst[i]\n",
    "        elif lst[i] > second_largest and lst[i] != largest:\n",
    "            second_largest = lst[i]\n",
    "\n",
    "    return second_largest\n",
    "\n",
    "# Example usage:\n",
    "numbers = [12, 45, 78, 34, 99, 23]\n",
    "second_largest_number = find_second_largest(numbers)\n",
    "\n",
    "if second_largest_number is not None:\n",
    "    print(\"The second largest number is:\", second_largest_number)\n",
    "else:\n",
    "    print(\"There is no second largest number in the list.\")\n"
   ]
  },
  {
   "cell_type": "code",
   "execution_count": 6,
   "id": "8a2b6770",
   "metadata": {},
   "outputs": [
    {
     "name": "stdout",
     "output_type": "stream",
     "text": [
      "List with duplicates removed: [1, 2, 3, 4, 5, 6, 7]\n"
     ]
    }
   ],
   "source": [
    "'''6. Implement a function to remove duplicate elements from a list.'''\n",
    "#Answer:\n",
    "def remove_duplicates(lst):\n",
    "    return list(set(lst))\n",
    "\n",
    "# Example usage:\n",
    "numbers = [1, 2, 3, 3, 4, 5, 4, 6, 6, 7]\n",
    "unique_numbers = remove_duplicates(numbers)\n",
    "print(\"List with duplicates removed:\", unique_numbers)\n"
   ]
  },
  {
   "cell_type": "code",
   "execution_count": 7,
   "id": "ad1f547f",
   "metadata": {},
   "outputs": [
    {
     "name": "stdout",
     "output_type": "stream",
     "text": [
      "The factorial of 5 is: 120\n"
     ]
    }
   ],
   "source": [
    "'''7. Write a program to calculate the factorial of a given number.'''\n",
    "#Answer:\n",
    "def calculate_factorial(n):\n",
    "    if n < 0:\n",
    "        return None\n",
    "\n",
    "    factorial = 1\n",
    "    for i in range(1, n + 1):\n",
    "        factorial *= i\n",
    "\n",
    "    return factorial\n",
    "\n",
    "# Example usage:\n",
    "number = 5\n",
    "factorial = calculate_factorial(number)\n",
    "\n",
    "if factorial is not None:\n",
    "    print(\"The factorial of\", number, \"is:\", factorial)\n",
    "else:\n",
    "    print(\"Cannot calculate factorial for a negative number.\")\n"
   ]
  },
  {
   "cell_type": "code",
   "execution_count": 8,
   "id": "7d3738eb",
   "metadata": {},
   "outputs": [
    {
     "name": "stdout",
     "output_type": "stream",
     "text": [
      "17 is a prime number.\n"
     ]
    }
   ],
   "source": [
    "'''8. Implement a function to check if a given number is prime.'''\n",
    "#Answer:\n",
    "def is_prime(number):\n",
    "    if number <= 1:\n",
    "        return False\n",
    "\n",
    "    for i in range(2, int(number**0.5) + 1):\n",
    "        if number % i == 0:\n",
    "            return False\n",
    "\n",
    "    return True\n",
    "\n",
    "# Example usage:\n",
    "num = 17\n",
    "if is_prime(num):\n",
    "    print(num, \"is a prime number.\")\n",
    "else:\n",
    "    print(num, \"is not a prime number.\")\n"
   ]
  },
  {
   "cell_type": "code",
   "execution_count": 9,
   "id": "c142e567",
   "metadata": {},
   "outputs": [
    {
     "name": "stdout",
     "output_type": "stream",
     "text": [
      "Sorted list: [1, 2, 3, 5, 7, 9]\n"
     ]
    }
   ],
   "source": [
    "'''9. Write a Python program to sort a list of integers in ascending order.'''\n",
    "#Answer:\n",
    "def sort_list(lst):\n",
    "    sorted_lst = lst.copy()\n",
    "    sorted_lst.sort()\n",
    "    return sorted_lst\n",
    "\n",
    "# Example usage:\n",
    "numbers = [9, 2, 5, 1, 7, 3]\n",
    "sorted_numbers = sort_list(numbers)\n",
    "print(\"Sorted list:\", sorted_numbers)\n"
   ]
  },
  {
   "cell_type": "code",
   "execution_count": 10,
   "id": "f2d77c66",
   "metadata": {},
   "outputs": [
    {
     "name": "stdout",
     "output_type": "stream",
     "text": [
      "The sum of the numbers is: 15\n"
     ]
    }
   ],
   "source": [
    "'''10. Implement a function to find the sum of all numbers in a list.'''\n",
    "#Answer:\n",
    "def find_sum(lst):\n",
    "    total = 0\n",
    "    for number in lst:\n",
    "        total += number\n",
    "    return total\n",
    "\n",
    "# Example usage:\n",
    "numbers = [1, 2, 3, 4, 5]\n",
    "sum_of_numbers = find_sum(numbers)\n",
    "print(\"The sum of the numbers is:\", sum_of_numbers)\n"
   ]
  },
  {
   "cell_type": "code",
   "execution_count": 11,
   "id": "4f82fdc8",
   "metadata": {},
   "outputs": [
    {
     "name": "stdout",
     "output_type": "stream",
     "text": [
      "Common elements: [4, 5]\n"
     ]
    }
   ],
   "source": [
    "'''11. Write a program to find the common elements between two lists.'''\n",
    "#Answer:\n",
    "def find_common_elements(list1, list2):\n",
    "    common_elements = []\n",
    "    for element in list1:\n",
    "        if element in list2:\n",
    "            common_elements.append(element)\n",
    "    return common_elements\n",
    "\n",
    "# Example usage:\n",
    "list1 = [1, 2, 3, 4, 5]\n",
    "list2 = [4, 5, 6, 7, 8]\n",
    "common_elements = find_common_elements(list1, list2)\n",
    "print(\"Common elements:\", common_elements)\n"
   ]
  },
  {
   "cell_type": "code",
   "execution_count": 12,
   "id": "ec70fe9c",
   "metadata": {},
   "outputs": [
    {
     "name": "stdout",
     "output_type": "stream",
     "text": [
      "The strings are anagrams.\n"
     ]
    }
   ],
   "source": [
    "'''12. Implement a function to check if a given string is an anagram of another string.'''\n",
    "#Answer:\n",
    "def is_anagram(str1, str2):\n",
    "    # Remove spaces and convert to lowercase\n",
    "    str1 = str1.replace(\" \", \"\").lower()\n",
    "    str2 = str2.replace(\" \", \"\").lower()\n",
    "\n",
    "    # Check if the sorted strings are equal\n",
    "    return sorted(str1) == sorted(str2)\n",
    "\n",
    "# Example usage:\n",
    "string1 = \"listen\"\n",
    "string2 = \"silent\"\n",
    "\n",
    "if is_anagram(string1, string2):\n",
    "    print(\"The strings are anagrams.\")\n",
    "else:\n",
    "    print(\"The strings are not anagrams.\")\n"
   ]
  },
  {
   "cell_type": "code",
   "execution_count": 2,
   "id": "a1672dc4",
   "metadata": {},
   "outputs": [
    {
     "name": "stdout",
     "output_type": "stream",
     "text": [
      "Enter a string: read\n",
      "read\n",
      "reda\n",
      "raed\n",
      "rade\n",
      "rdea\n",
      "rdae\n",
      "erad\n",
      "erda\n",
      "eard\n",
      "eadr\n",
      "edra\n",
      "edar\n",
      "ared\n",
      "arde\n",
      "aerd\n",
      "aedr\n",
      "adre\n",
      "ader\n",
      "drea\n",
      "drae\n",
      "dera\n",
      "dear\n",
      "dare\n",
      "daer\n"
     ]
    }
   ],
   "source": [
    "'''13. Write a Python program to generate all permutations of a given string.'''\n",
    "#Answer:\n",
    "def get_permutations(string):\n",
    "    # Base case: If the string is empty, return an empty list\n",
    "    if len(string) == 0:\n",
    "        return []\n",
    "\n",
    "    # Base case: If the string has only one character, return the string itself as a list\n",
    "    if len(string) == 1:\n",
    "        return [string]\n",
    "\n",
    "    # Recursive case: Generate permutations by fixing each character at the beginning and permuting the rest\n",
    "    permutations = []\n",
    "    for i in range(len(string)):\n",
    "        char = string[i]\n",
    "        remaining_chars = string[:i] + string[i+1:]\n",
    "        for perm in get_permutations(remaining_chars):\n",
    "            permutations.append(char + perm)\n",
    "\n",
    "    return permutations\n",
    "\n",
    "# Test the function\n",
    "string = input(\"Enter a string: \")\n",
    "permutations = get_permutations(string)\n",
    "for perm in permutations:\n",
    "    print(perm)\n"
   ]
  },
  {
   "cell_type": "code",
   "execution_count": 3,
   "id": "0a6e220d",
   "metadata": {},
   "outputs": [
    {
     "name": "stdout",
     "output_type": "stream",
     "text": [
      "Enter the number of terms: 5\n",
      "[0, 1, 1, 2, 3]\n"
     ]
    }
   ],
   "source": [
    "'''14. Implement a function to calculate the Fibonacci sequence up to a given number of terms.'''\n",
    "#Answer:\n",
    "def fibonacci_sequence(n):\n",
    "    sequence = []\n",
    "    if n <= 0:\n",
    "        return sequence\n",
    "    elif n == 1:\n",
    "        sequence.append(0)\n",
    "    elif n == 2:\n",
    "        sequence.extend([0, 1])\n",
    "    else:\n",
    "        sequence.extend([0, 1])\n",
    "        a, b = 0, 1\n",
    "        for _ in range(n - 2):\n",
    "            a, b = b, a + b\n",
    "            sequence.append(b)\n",
    "    return sequence\n",
    "\n",
    "# Test the function\n",
    "n = int(input(\"Enter the number of terms: \"))\n",
    "fib_sequence = fibonacci_sequence(n)\n",
    "print(fib_sequence)\n"
   ]
  },
  {
   "cell_type": "code",
   "execution_count": 4,
   "id": "d921fca6",
   "metadata": {},
   "outputs": [
    {
     "name": "stdout",
     "output_type": "stream",
     "text": [
      "Median: 3.5\n"
     ]
    }
   ],
   "source": [
    "'''15. Write a program to find the median of a list of numbers.'''\n",
    "#Answer:\n",
    "def find_median(numbers):\n",
    "    sorted_numbers = sorted(numbers)\n",
    "    n = len(sorted_numbers)\n",
    "\n",
    "    if n % 2 == 0:\n",
    "        # If the number of elements is even, average the middle two numbers\n",
    "        mid_right = n // 2\n",
    "        mid_left = mid_right - 1\n",
    "        median = (sorted_numbers[mid_left] + sorted_numbers[mid_right]) / 2\n",
    "    else:\n",
    "        # If the number of elements is odd, take the middle number\n",
    "        median = sorted_numbers[n // 2]\n",
    "\n",
    "    return median\n",
    "\n",
    "# Test the function\n",
    "numbers = [2, 7, 4, 1, 5, 3]\n",
    "median = find_median(numbers)\n",
    "print(\"Median:\", median)\n"
   ]
  },
  {
   "cell_type": "code",
   "execution_count": 5,
   "id": "170e70b4",
   "metadata": {},
   "outputs": [
    {
     "name": "stdout",
     "output_type": "stream",
     "text": [
      "Is sorted: True\n",
      "Is sorted: False\n"
     ]
    }
   ],
   "source": [
    "'''16. Implement a function to check if a given list is sorted in non-decreasing order.'''\n",
    "#Answer:\n",
    "def is_sorted(numbers):\n",
    "    n = len(numbers)\n",
    "    for i in range(1, n):\n",
    "        if numbers[i] < numbers[i - 1]:\n",
    "            return False\n",
    "    return True\n",
    "\n",
    "# Test the function\n",
    "numbers = [1, 2, 3, 4, 5]\n",
    "print(\"Is sorted:\", is_sorted(numbers))\n",
    "\n",
    "numbers = [1, 3, 2, 4, 5]\n",
    "print(\"Is sorted:\", is_sorted(numbers))\n"
   ]
  },
  {
   "cell_type": "code",
   "execution_count": 6,
   "id": "3805237d",
   "metadata": {},
   "outputs": [
    {
     "name": "stdout",
     "output_type": "stream",
     "text": [
      "Intersection: [4, 5]\n"
     ]
    }
   ],
   "source": [
    "'''17. Write a Python program to find the intersection of two lists.'''\n",
    "#Answer:\n",
    "def find_intersection(list1, list2):\n",
    "    set1 = set(list1)\n",
    "    set2 = set(list2)\n",
    "    intersection = set1.intersection(set2)\n",
    "    return list(intersection)\n",
    "\n",
    "# Test the function\n",
    "list1 = [1, 2, 3, 4, 5]\n",
    "list2 = [4, 5, 6, 7, 8]\n",
    "intersection = find_intersection(list1, list2)\n",
    "print(\"Intersection:\", intersection)\n"
   ]
  },
  {
   "cell_type": "code",
   "execution_count": 7,
   "id": "2fe8cdcd",
   "metadata": {},
   "outputs": [
    {
     "name": "stdout",
     "output_type": "stream",
     "text": [
      "Maximum subarray sum: 6\n"
     ]
    }
   ],
   "source": [
    "'''18. Implement a function to find the maximum subarray sum in a given list.'''\n",
    "#Answer:\n",
    "def find_maximum_subarray_sum(numbers):\n",
    "    if not numbers:\n",
    "        return 0\n",
    "\n",
    "    current_sum = max_sum = numbers[0]\n",
    "    for i in range(1, len(numbers)):\n",
    "        current_sum = max(numbers[i], current_sum + numbers[i])\n",
    "        max_sum = max(max_sum, current_sum)\n",
    "\n",
    "    return max_sum\n",
    "\n",
    "# Test the function\n",
    "numbers = [-2, 1, -3, 4, -1, 2, 1, -5, 4]\n",
    "maximum_sum = find_maximum_subarray_sum(numbers)\n",
    "print(\"Maximum subarray sum:\", maximum_sum)\n"
   ]
  },
  {
   "cell_type": "code",
   "execution_count": 8,
   "id": "161be217",
   "metadata": {},
   "outputs": [
    {
     "name": "stdout",
     "output_type": "stream",
     "text": [
      "Enter a string: aakash\n",
      "String without vowels: ksh\n"
     ]
    }
   ],
   "source": [
    "'''19. Write a program to remove all vowels from a given string.'''\n",
    "#Answer:\n",
    "def remove_vowels(string):\n",
    "    vowels = ['a', 'e', 'i', 'o', 'u', 'A', 'E', 'I', 'O', 'U']\n",
    "    without_vowels = ''.join([char for char in string if char not in vowels])\n",
    "    return without_vowels\n",
    "\n",
    "# Test the function\n",
    "string = input(\"Enter a string: \")\n",
    "result = remove_vowels(string)\n",
    "print(\"String without vowels:\", result)\n"
   ]
  },
  {
   "cell_type": "code",
   "execution_count": 9,
   "id": "1b4703ff",
   "metadata": {},
   "outputs": [
    {
     "name": "stdout",
     "output_type": "stream",
     "text": [
      "Enter a sentence: i am so disciplined student.\n",
      "Reversed sentence: student. disciplined so am i\n"
     ]
    }
   ],
   "source": [
    "'''20. Implement a function to reverse the order of words in a given sentence.'''\n",
    "#Answer:\n",
    "def reverse_sentence(sentence):\n",
    "    words = sentence.split()\n",
    "    reversed_words = words[::-1]\n",
    "    reversed_sentence = \" \".join(reversed_words)\n",
    "    return reversed_sentence\n",
    "\n",
    "# Test the function\n",
    "sentence = input(\"Enter a sentence: \")\n",
    "reversed_sentence = reverse_sentence(sentence)\n",
    "print(\"Reversed sentence:\", reversed_sentence)\n"
   ]
  },
  {
   "cell_type": "code",
   "execution_count": 10,
   "id": "3d6ac14a",
   "metadata": {},
   "outputs": [
    {
     "name": "stdout",
     "output_type": "stream",
     "text": [
      "Enter the first string: tenet\n",
      "Enter the second string: tenet\n",
      "The strings are anagrams.\n"
     ]
    }
   ],
   "source": [
    "'''21. Write a Python program to check if two strings are anagrams of each other.'''\n",
    "#Answer:\n",
    "def are_anagrams(str1, str2):\n",
    "    # Remove spaces and convert to lowercase\n",
    "    str1 = str1.replace(\" \", \"\").lower()\n",
    "    str2 = str2.replace(\" \", \"\").lower()\n",
    "\n",
    "    # Check if the sorted characters of both strings are the same\n",
    "    return sorted(str1) == sorted(str2)\n",
    "\n",
    "# Test the function\n",
    "string1 = input(\"Enter the first string: \")\n",
    "string2 = input(\"Enter the second string: \")\n",
    "result = are_anagrams(string1, string2)\n",
    "\n",
    "if result:\n",
    "    print(\"The strings are anagrams.\")\n",
    "else:\n",
    "    print(\"The strings are not anagrams.\")\n"
   ]
  },
  {
   "cell_type": "code",
   "execution_count": 11,
   "id": "2a61ea6c",
   "metadata": {},
   "outputs": [
    {
     "name": "stdout",
     "output_type": "stream",
     "text": [
      "Enter a string: aakash\n",
      "First non-repeating character: k\n"
     ]
    }
   ],
   "source": [
    "'''22. Implement a function to find the first non-repeating character in a string.'''\n",
    "#Answer:\n",
    "def find_first_non_repeating_char(string):\n",
    "    char_count = {}\n",
    "\n",
    "    # Count the occurrences of each character\n",
    "    for char in string:\n",
    "        char_count[char] = char_count.get(char, 0) + 1\n",
    "\n",
    "    # Find the first character with count 1\n",
    "    for char in string:\n",
    "        if char_count[char] == 1:\n",
    "            return char\n",
    "\n",
    "    # If no non-repeating character is found\n",
    "    return None\n",
    "\n",
    "# Test the function\n",
    "string = input(\"Enter a string: \")\n",
    "result = find_first_non_repeating_char(string)\n",
    "\n",
    "if result:\n",
    "    print(\"First non-repeating character:\", result)\n",
    "else:\n",
    "    print(\"No non-repeating character found.\")\n"
   ]
  },
  {
   "cell_type": "code",
   "execution_count": 13,
   "id": "59dec85f",
   "metadata": {},
   "outputs": [
    {
     "name": "stdout",
     "output_type": "stream",
     "text": [
      "Enter a number: 90\n",
      "Prime factors: [2, 3, 3, 5]\n"
     ]
    }
   ],
   "source": [
    "'''23. Write a program to find the prime factors of a given number.'''\n",
    "#Answer:\n",
    "def find_prime_factors(number):\n",
    "    prime_factors = []\n",
    "    divisor = 2\n",
    "\n",
    "    while divisor <= number:\n",
    "        if number % divisor == 0:\n",
    "            prime_factors.append(divisor)\n",
    "            number = number // divisor\n",
    "        else:\n",
    "            divisor += 1\n",
    "\n",
    "    return prime_factors\n",
    "\n",
    "# Test the function\n",
    "number = int(input(\"Enter a number: \"))\n",
    "factors = find_prime_factors(number)\n",
    "print(\"Prime factors:\", factors)\n"
   ]
  },
  {
   "cell_type": "code",
   "execution_count": 14,
   "id": "fd98ab2f",
   "metadata": {},
   "outputs": [
    {
     "name": "stdout",
     "output_type": "stream",
     "text": [
      "Enter a number: 50\n",
      "The number is not a power of two.\n"
     ]
    }
   ],
   "source": [
    "'''24. Implement a function to check if a given number is a power of two.'''\n",
    "#Answer:\n",
    "def is_power_of_two(number):\n",
    "    if number <= 0:\n",
    "        return False\n",
    "\n",
    "    return (number & (number - 1)) == 0\n",
    "\n",
    "# Test the function\n",
    "number = int(input(\"Enter a number: \"))\n",
    "result = is_power_of_two(number)\n",
    "\n",
    "if result:\n",
    "    print(\"The number is a power of two.\")\n",
    "else:\n",
    "    print(\"The number is not a power of two.\")\n"
   ]
  },
  {
   "cell_type": "code",
   "execution_count": 15,
   "id": "692b6ed3",
   "metadata": {},
   "outputs": [
    {
     "name": "stdout",
     "output_type": "stream",
     "text": [
      "Merged list: [1, 2, 3, 4, 5, 6, 7, 8]\n"
     ]
    }
   ],
   "source": [
    "'''25. Write a Python program to merge two sorted lists into a single sorted list.'''\n",
    "#Answer:\n",
    "def merge_sorted_lists(list1, list2):\n",
    "    merged_list = []\n",
    "    i = j = 0\n",
    "\n",
    "    while i < len(list1) and j < len(list2):\n",
    "        if list1[i] <= list2[j]:\n",
    "            merged_list.append(list1[i])\n",
    "            i += 1\n",
    "        else:\n",
    "            merged_list.append(list2[j])\n",
    "            j += 1\n",
    "\n",
    "    # Add remaining elements from list1, if any\n",
    "    while i < len(list1):\n",
    "        merged_list.append(list1[i])\n",
    "        i += 1\n",
    "\n",
    "    # Add remaining elements from list2, if any\n",
    "    while j < len(list2):\n",
    "        merged_list.append(list2[j])\n",
    "        j += 1\n",
    "\n",
    "    return merged_list\n",
    "\n",
    "# Test the function\n",
    "list1 = [1, 4, 6, 8]\n",
    "list2 = [2, 3, 5, 7]\n",
    "merged_list = merge_sorted_lists(list1, list2)\n",
    "print(\"Merged list:\", merged_list)\n"
   ]
  },
  {
   "cell_type": "code",
   "execution_count": 16,
   "id": "60634912",
   "metadata": {},
   "outputs": [
    {
     "name": "stdout",
     "output_type": "stream",
     "text": [
      "Mode(s): [4, 5]\n"
     ]
    }
   ],
   "source": [
    "'''26. Implement a function to find the mode of a list of numbers.'''\n",
    "#Answer:\n",
    "from collections import Counter\n",
    "\n",
    "def find_mode(numbers):\n",
    "    # Count the occurrences of each number\n",
    "    count = Counter(numbers)\n",
    "\n",
    "    # Find the number(s) with the maximum count\n",
    "    max_count = max(count.values())\n",
    "    modes = [num for num, freq in count.items() if freq == max_count]\n",
    "\n",
    "    return modes\n",
    "\n",
    "# Test the function\n",
    "numbers = [1, 2, 3, 3, 4, 4, 4, 5, 5, 5]\n",
    "modes = find_mode(numbers)\n",
    "print(\"Mode(s):\", modes)\n"
   ]
  },
  {
   "cell_type": "code",
   "execution_count": 17,
   "id": "c8411d2a",
   "metadata": {},
   "outputs": [
    {
     "name": "stdout",
     "output_type": "stream",
     "text": [
      "Greatest Common Divisor (GCD): 12\n"
     ]
    }
   ],
   "source": [
    "'''27. Write a program to find the greatest common divisor (GCD) of two numbers.'''\n",
    "#Answer:\n",
    "def find_gcd(a, b):\n",
    "    while b != 0:\n",
    "        a, b = b, a % b\n",
    "    return a\n",
    "\n",
    "# Test the function\n",
    "num1 = 24\n",
    "num2 = 36\n",
    "gcd = find_gcd(num1, num2)\n",
    "print(\"Greatest Common Divisor (GCD):\", gcd)\n"
   ]
  },
  {
   "cell_type": "code",
   "execution_count": 18,
   "id": "cb001e58",
   "metadata": {},
   "outputs": [
    {
     "name": "stdout",
     "output_type": "stream",
     "text": [
      "Square root: 5.000000000053722\n"
     ]
    }
   ],
   "source": [
    "'''28. Implement a function to calculate the square root of a given number.'''\n",
    "#Answer:\n",
    "def calculate_square_root(number, epsilon=1e-6):\n",
    "    if number < 0:\n",
    "        raise ValueError(\"Square root is not defined for negative numbers.\")\n",
    "\n",
    "    guess = number\n",
    "    while abs(guess * guess - number) > epsilon:\n",
    "        guess = (guess + number / guess) / 2\n",
    "\n",
    "    return guess\n",
    "\n",
    "# Test the function\n",
    "number = 25\n",
    "square_root = calculate_square_root(number)\n",
    "print(\"Square root:\", square_root)\n"
   ]
  },
  {
   "cell_type": "code",
   "execution_count": 19,
   "id": "74eee7a4",
   "metadata": {},
   "outputs": [
    {
     "name": "stdout",
     "output_type": "stream",
     "text": [
      "Enter a string: tenet\n",
      "The string is a valid palindrome.\n"
     ]
    }
   ],
   "source": [
    "'''29. Write a Python program to check if a given string is a valid palindrome ignoring non-alphanumeric characters.'''\n",
    "#Answer:\n",
    "def is_valid_palindrome(string):\n",
    "    # Remove non-alphanumeric characters and convert to lowercase\n",
    "    cleaned_string = ''.join(char.lower() for char in string if char.isalnum())\n",
    "\n",
    "    # Check if the cleaned string is a palindrome\n",
    "    return cleaned_string == cleaned_string[::-1]\n",
    "\n",
    "# Test the function\n",
    "string = input(\"Enter a string: \")\n",
    "result = is_valid_palindrome(string)\n",
    "\n",
    "if result:\n",
    "    print(\"The string is a valid palindrome.\")\n",
    "else:\n",
    "    print(\"The string is not a valid palindrome.\")\n"
   ]
  },
  {
   "cell_type": "code",
   "execution_count": 20,
   "id": "0f206ddb",
   "metadata": {},
   "outputs": [
    {
     "name": "stdout",
     "output_type": "stream",
     "text": [
      "Minimum element: 0\n"
     ]
    }
   ],
   "source": [
    "'''30. Implement a function to find the minimum element in a rotated sorted list.'''\n",
    "#Answer:\n",
    "def find_minimum_in_rotated_sorted_list(nums):\n",
    "    left = 0\n",
    "    right = len(nums) - 1\n",
    "\n",
    "    # If the list is not rotated, return the first element\n",
    "    if nums[left] <= nums[right]:\n",
    "        return nums[left]\n",
    "\n",
    "    while left < right:\n",
    "        mid = left + (right - left) // 2\n",
    "\n",
    "        # Check if mid is the pivot point\n",
    "        if nums[mid] > nums[mid + 1]:\n",
    "            return nums[mid + 1]\n",
    "\n",
    "        # Determine which half to search\n",
    "        if nums[mid] >= nums[left]:\n",
    "            left = mid + 1\n",
    "        else:\n",
    "            right = mid\n",
    "\n",
    "    # If the loop terminates, left will be the index of the smallest element\n",
    "    return nums[left]\n",
    "\n",
    "# Test the function\n",
    "nums = [4, 5, 6, 7, 0, 1, 2]\n",
    "minimum = find_minimum_in_rotated_sorted_list(nums)\n",
    "print(\"Minimum element:\", minimum)\n"
   ]
  },
  {
   "cell_type": "code",
   "execution_count": 21,
   "id": "27d2f796",
   "metadata": {},
   "outputs": [
    {
     "name": "stdout",
     "output_type": "stream",
     "text": [
      "Sum of even numbers: 30\n"
     ]
    }
   ],
   "source": [
    "'''31. Write a program to find the sum of all even numbers in a list.'''\n",
    "#Answer:\n",
    "def sum_of_even_numbers(numbers):\n",
    "    sum_even = 0\n",
    "    for num in numbers:\n",
    "        if num % 2 == 0:\n",
    "            sum_even += num\n",
    "    return sum_even\n",
    "\n",
    "# Test the function\n",
    "numbers = [1, 2, 3, 4, 5, 6, 7, 8, 9, 10]\n",
    "sum_even = sum_of_even_numbers(numbers)\n",
    "print(\"Sum of even numbers:\", sum_even)\n"
   ]
  },
  {
   "cell_type": "code",
   "execution_count": 22,
   "id": "3916c761",
   "metadata": {},
   "outputs": [
    {
     "name": "stdout",
     "output_type": "stream",
     "text": [
      "Result: 8\n"
     ]
    }
   ],
   "source": [
    "'''32. Implement a function to calculate the power of a number using recursion.'''\n",
    "#Answer:\n",
    "def power(base, exponent):\n",
    "    if exponent == 0:\n",
    "        return 1\n",
    "    elif exponent < 0:\n",
    "        return 1 / power(base, -exponent)\n",
    "    else:\n",
    "        return base * power(base, exponent - 1)\n",
    "\n",
    "# Test the function\n",
    "base = 2\n",
    "exponent = 3\n",
    "result = power(base, exponent)\n",
    "print(\"Result:\", result)\n"
   ]
  },
  {
   "cell_type": "code",
   "execution_count": 23,
   "id": "f66aa92e",
   "metadata": {},
   "outputs": [
    {
     "name": "stdout",
     "output_type": "stream",
     "text": [
      "List with duplicates removed: [1, 2, 3, 4, 5, 6]\n"
     ]
    }
   ],
   "source": [
    "'''33. Write a Python program to remove duplicates from a list while preserving the order.'''\n",
    "#Answer:\n",
    "def remove_duplicates_preserve_order(lst):\n",
    "    unique_list = []\n",
    "    seen = set()\n",
    "\n",
    "    for item in lst:\n",
    "        if item not in seen:\n",
    "            seen.add(item)\n",
    "            unique_list.append(item)\n",
    "\n",
    "    return unique_list\n",
    "\n",
    "# Test the function\n",
    "lst = [1, 2, 3, 2, 4, 3, 5, 6, 4]\n",
    "result = remove_duplicates_preserve_order(lst)\n",
    "print(\"List with duplicates removed:\", result)\n"
   ]
  },
  {
   "cell_type": "code",
   "execution_count": 24,
   "id": "1ae3e38c",
   "metadata": {},
   "outputs": [
    {
     "name": "stdout",
     "output_type": "stream",
     "text": [
      "Longest common prefix: fl\n"
     ]
    }
   ],
   "source": [
    "'''34. Implement a function to find the longest common prefix among a list of strings.'''\n",
    "#Answer:\n",
    "def find_longest_common_prefix(strings):\n",
    "    if not strings:\n",
    "        return \"\"\n",
    "\n",
    "    prefix = strings[0]\n",
    "    for string in strings[1:]:\n",
    "        while string[:len(prefix)] != prefix:\n",
    "            prefix = prefix[:-1]\n",
    "            if not prefix:\n",
    "                return \"\"\n",
    "\n",
    "    return prefix\n",
    "\n",
    "# Test the function\n",
    "strings = [\"flower\", \"flow\", \"flight\"]\n",
    "longest_common_prefix = find_longest_common_prefix(strings)\n",
    "print(\"Longest common prefix:\", longest_common_prefix)\n"
   ]
  },
  {
   "cell_type": "code",
   "execution_count": 25,
   "id": "b85b0a68",
   "metadata": {},
   "outputs": [
    {
     "name": "stdout",
     "output_type": "stream",
     "text": [
      "Enter a number: 11\n",
      "The number is not a perfect square.\n"
     ]
    }
   ],
   "source": [
    "'''35. Write a program to check if a given number is a perfect square.'''\n",
    "#Answer:\n",
    "def is_perfect_square(number):\n",
    "    if number < 0:\n",
    "        return False\n",
    "\n",
    "    # Using binary search to find the square root\n",
    "    left = 0\n",
    "    right = number\n",
    "\n",
    "    while left <= right:\n",
    "        mid = left + (right - left) // 2\n",
    "        square = mid * mid\n",
    "\n",
    "        if square == number:\n",
    "            return True\n",
    "        elif square < number:\n",
    "            left = mid + 1\n",
    "        else:\n",
    "            right = mid - 1\n",
    "\n",
    "    return False\n",
    "\n",
    "# Test the program\n",
    "number = int(input(\"Enter a number: \"))\n",
    "result = is_perfect_square(number)\n",
    "\n",
    "if result:\n",
    "    print(\"The number is a perfect square.\")\n",
    "else:\n",
    "    print(\"The number is not a perfect square.\")\n"
   ]
  },
  {
   "cell_type": "code",
   "execution_count": 26,
   "id": "3faeeb64",
   "metadata": {},
   "outputs": [
    {
     "name": "stdout",
     "output_type": "stream",
     "text": [
      "Product: 120\n"
     ]
    }
   ],
   "source": [
    "'''36. Implement a function to calculate the product of all elements in a list.'''\n",
    "#Answer:\n",
    "def calculate_product(numbers):\n",
    "    product = 1\n",
    "    for num in numbers:\n",
    "        product *= num\n",
    "    return product\n",
    "\n",
    "# Test the function\n",
    "numbers = [1, 2, 3, 4, 5]\n",
    "product = calculate_product(numbers)\n",
    "print(\"Product:\", product)\n"
   ]
  },
  {
   "cell_type": "code",
   "execution_count": 27,
   "id": "2972d4b8",
   "metadata": {},
   "outputs": [
    {
     "name": "stdout",
     "output_type": "stream",
     "text": [
      "Enter a sentence: i want to visit many famous places in the world.\n",
      "Reversed sentence: world. the in places famous many visit to want i\n"
     ]
    }
   ],
   "source": [
    "'''37. Write a Python program to reverse the order of words in a sentence while preserving the word order.'''\n",
    "#Answer:\n",
    "def reverse_sentence(sentence):\n",
    "    words = sentence.split()\n",
    "    reversed_words = words[::-1]\n",
    "    reversed_sentence = \" \".join(reversed_words)\n",
    "    return reversed_sentence\n",
    "\n",
    "# Test the program\n",
    "sentence = input(\"Enter a sentence: \")\n",
    "reversed_sentence = reverse_sentence(sentence)\n",
    "print(\"Reversed sentence:\", reversed_sentence)\n"
   ]
  },
  {
   "cell_type": "code",
   "execution_count": 28,
   "id": "80ee4b27",
   "metadata": {},
   "outputs": [
    {
     "name": "stdout",
     "output_type": "stream",
     "text": [
      "Missing number: 3\n"
     ]
    }
   ],
   "source": [
    "'''38. Implement a function to find the missing number in a given list of consecutive numbers.'''\n",
    "#Answer:\n",
    "def find_missing_number(numbers):\n",
    "    n = len(numbers) + 1\n",
    "    expected_sum = (n * (n + 1)) // 2\n",
    "    actual_sum = sum(numbers)\n",
    "    missing_number = expected_sum - actual_sum\n",
    "    return missing_number\n",
    "\n",
    "# Test the function\n",
    "numbers = [1, 2, 4, 5, 6]\n",
    "missing_number = find_missing_number(numbers)\n",
    "print(\"Missing number:\", missing_number)\n"
   ]
  },
  {
   "cell_type": "code",
   "execution_count": 30,
   "id": "745a9268",
   "metadata": {},
   "outputs": [
    {
     "name": "stdout",
     "output_type": "stream",
     "text": [
      "Enter a number: 122\n",
      "Sum of digits: 5\n"
     ]
    }
   ],
   "source": [
    "'''39. Write a program to find the sum of digits of a given number.'''\n",
    "#answer:\n",
    "def sum_of_digits(number):\n",
    "    total_sum = 0\n",
    "\n",
    "    # Iterate over each digit in the number\n",
    "    while number > 0:\n",
    "        digit = number % 10  # Get the rightmost digit\n",
    "        total_sum += digit  # Add the digit to the total sum\n",
    "        number //= 10  # Remove the rightmost digit from the number\n",
    "\n",
    "    return total_sum\n",
    "\n",
    "# Test the program\n",
    "number = int(input(\"Enter a number: \"))\n",
    "digit_sum = sum_of_digits(number)\n",
    "print(\"Sum of digits:\", digit_sum)\n"
   ]
  },
  {
   "cell_type": "code",
   "execution_count": 31,
   "id": "f1c93c76",
   "metadata": {},
   "outputs": [
    {
     "name": "stdout",
     "output_type": "stream",
     "text": [
      "Enter a string: eye\n",
      "The string is a valid palindrome.\n"
     ]
    }
   ],
   "source": [
    "'''40. Implement a function to check if a given string is a valid palindrome considering case sensitivity.'''\n",
    "#Answer:\n",
    "def is_valid_palindrome(string):\n",
    "    # Remove non-alphanumeric characters and convert to lowercase\n",
    "    cleaned_string = ''.join(char.lower() for char in string if char.isalnum())\n",
    "\n",
    "    # Check if the cleaned string is equal to its reverse\n",
    "    return cleaned_string == cleaned_string[::-1]\n",
    "\n",
    "# Test the function\n",
    "string = input(\"Enter a string: \")\n",
    "result = is_valid_palindrome(string)\n",
    "\n",
    "if result:\n",
    "    print(\"The string is a valid palindrome.\")\n",
    "else:\n",
    "    print(\"The string is not a valid palindrome.\")\n"
   ]
  },
  {
   "cell_type": "code",
   "execution_count": 33,
   "id": "9e422542",
   "metadata": {},
   "outputs": [
    {
     "name": "stdout",
     "output_type": "stream",
     "text": [
      "Smallest missing positive integer: 2\n"
     ]
    }
   ],
   "source": [
    "'''41. Write a Python program to find the smallest missing positive integer in a list.'''\n",
    "#Answer:\n",
    "def find_smallest_missing_positive(nums):\n",
    "    n = len(nums)\n",
    "\n",
    "    # Step 1: Move all positive integers to the correct position\n",
    "    for i in range(n):\n",
    "        while 1 <= nums[i] <= n and nums[nums[i] - 1] != nums[i]:\n",
    "            # Swap the current number to its correct position\n",
    "            nums[nums[i] - 1], nums[i] = nums[i], nums[nums[i] - 1]\n",
    "\n",
    "    # Step 2: Find the first index where the number is not equal to its position\n",
    "    for i in range(n):\n",
    "        if nums[i] != i + 1:\n",
    "            return i + 1\n",
    "\n",
    "    # If all numbers from 1 to n are present, the smallest missing positive is n + 1\n",
    "    return n + 1\n",
    "\n",
    "# Test the program\n",
    "nums = [3, 4, -1, 1]\n",
    "smallest_missing = find_smallest_missing_positive(nums)\n",
    "print(\"Smallest missing positive integer:\", smallest_missing)\n"
   ]
  },
  {
   "cell_type": "code",
   "execution_count": 34,
   "id": "ce57c968",
   "metadata": {},
   "outputs": [
    {
     "name": "stdout",
     "output_type": "stream",
     "text": [
      "Enter a string: tenet\n",
      "Longest palindrome substring: tenet\n"
     ]
    }
   ],
   "source": [
    "'''42. Implement a function to find the longest palindrome substring in a given string.'''\n",
    "#Answer:\n",
    "def longest_palindrome_substring(string):\n",
    "    n = len(string)\n",
    "    longest = \"\"\n",
    "\n",
    "    # Helper function to expand around center\n",
    "    def expand_around_center(left, right):\n",
    "        while left >= 0 and right < n and string[left] == string[right]:\n",
    "            left -= 1\n",
    "            right += 1\n",
    "        return string[left + 1:right]\n",
    "\n",
    "    # Check for palindromes with odd length\n",
    "    for i in range(n):\n",
    "        palindrome = expand_around_center(i, i)\n",
    "        if len(palindrome) > len(longest):\n",
    "            longest = palindrome\n",
    "\n",
    "    # Check for palindromes with even length\n",
    "    for i in range(n - 1):\n",
    "        palindrome = expand_around_center(i, i + 1)\n",
    "        if len(palindrome) > len(longest):\n",
    "            longest = palindrome\n",
    "\n",
    "    return longest\n",
    "\n",
    "# Test the function\n",
    "string = input(\"Enter a string: \")\n",
    "longest_palindrome = longest_palindrome_substring(string)\n",
    "print(\"Longest palindrome substring:\", longest_palindrome)\n"
   ]
  },
  {
   "cell_type": "code",
   "execution_count": 35,
   "id": "3726437e",
   "metadata": {},
   "outputs": [
    {
     "name": "stdout",
     "output_type": "stream",
     "text": [
      "Number of occurrences: 4\n"
     ]
    }
   ],
   "source": [
    "'''43. Write a program to find the number of occurrences of a given element in a list.'''\n",
    "#answer:\n",
    "def count_occurrences(lst, element):\n",
    "    count = 0\n",
    "    for item in lst:\n",
    "        if item == element:\n",
    "            count += 1\n",
    "    return count\n",
    "\n",
    "# Test the program\n",
    "lst = [1, 2, 3, 4, 2, 2, 5, 2]\n",
    "element = 2\n",
    "occurrences = count_occurrences(lst, element)\n",
    "print(\"Number of occurrences:\", occurrences)\n"
   ]
  },
  {
   "cell_type": "code",
   "execution_count": 36,
   "id": "bb6b791b",
   "metadata": {},
   "outputs": [
    {
     "name": "stdout",
     "output_type": "stream",
     "text": [
      "Enter a number: 88\n",
      "The number is not a perfect number.\n"
     ]
    }
   ],
   "source": [
    "'''44. Implement a function to check if a given number is a perfect number.'''\n",
    "#Answer:\n",
    "def is_perfect_number(number):\n",
    "    if number <= 0:\n",
    "        return False\n",
    "\n",
    "    divisor_sum = 0\n",
    "    for i in range(1, number):\n",
    "        if number % i == 0:\n",
    "            divisor_sum += i\n",
    "\n",
    "    return divisor_sum == number\n",
    "\n",
    "# Test the function\n",
    "number = int(input(\"Enter a number: \"))\n",
    "result = is_perfect_number(number)\n",
    "\n",
    "if result:\n",
    "    print(\"The number is a perfect number.\")\n",
    "else:\n",
    "    print(\"The number is not a perfect number.\")\n"
   ]
  },
  {
   "cell_type": "code",
   "execution_count": 37,
   "id": "b53906bc",
   "metadata": {},
   "outputs": [
    {
     "name": "stdout",
     "output_type": "stream",
     "text": [
      "Enter a string: aakash\n",
      "String with duplicates removed: aksh\n"
     ]
    }
   ],
   "source": [
    "'''45. Write a Python program to remove all duplicates from a string.'''\n",
    "#Answer:\n",
    "def remove_duplicates(string):\n",
    "    unique_chars = []\n",
    "    for char in string:\n",
    "        if char not in unique_chars:\n",
    "            unique_chars.append(char)\n",
    "    return ''.join(unique_chars)\n",
    "\n",
    "# Test the program\n",
    "string = input(\"Enter a string: \")\n",
    "result = remove_duplicates(string)\n",
    "print(\"String with duplicates removed:\", result)\n"
   ]
  },
  {
   "cell_type": "code",
   "execution_count": 38,
   "id": "493baddd",
   "metadata": {},
   "outputs": [
    {
     "name": "stdout",
     "output_type": "stream",
     "text": [
      "First missing positive integer: 2\n"
     ]
    }
   ],
   "source": [
    "'''46. Implement a function to find the first missing positive'''\n",
    "#Answer:\n",
    "def find_first_missing_positive(nums):\n",
    "    n = len(nums)\n",
    "\n",
    "    # Step 1: Move all positive integers to the correct position\n",
    "    for i in range(n):\n",
    "        while 1 <= nums[i] <= n and nums[nums[i] - 1] != nums[i]:\n",
    "            # Swap the current number to its correct position\n",
    "            nums[nums[i] - 1], nums[i] = nums[i], nums[nums[i] - 1]\n",
    "\n",
    "    # Step 2: Find the first index where the number is not equal to its position\n",
    "    for i in range(n):\n",
    "        if nums[i] != i + 1:\n",
    "            return i + 1\n",
    "\n",
    "    # If all numbers from 1 to n are present, the first missing positive is n + 1\n",
    "    return n + 1\n",
    "\n",
    "# Test the function\n",
    "nums = [3, 4, -1, 1]\n",
    "first_missing = find_first_missing_positive(nums)\n",
    "print(\"First missing positive integer:\", first_missing)\n"
   ]
  },
  {
   "cell_type": "code",
   "execution_count": null,
   "id": "8de95a52",
   "metadata": {},
   "outputs": [],
   "source": []
  }
 ],
 "metadata": {
  "kernelspec": {
   "display_name": "Python 3 (ipykernel)",
   "language": "python",
   "name": "python3"
  },
  "language_info": {
   "codemirror_mode": {
    "name": "ipython",
    "version": 3
   },
   "file_extension": ".py",
   "mimetype": "text/x-python",
   "name": "python",
   "nbconvert_exporter": "python",
   "pygments_lexer": "ipython3",
   "version": "3.9.7"
  }
 },
 "nbformat": 4,
 "nbformat_minor": 5
}
